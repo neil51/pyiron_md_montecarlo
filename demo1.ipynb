{
 "cells": [
  {
   "cell_type": "markdown",
   "metadata": {},
   "source": [
    "# Introduction\n",
    "\n",
    "This notebook shows how to use variance constrained semi grand canonical (VC-SGC) Molecular Dynamics/Monte Carlo (MD/MC) calculations [1]. This approach has been implemented in Lammps [2] and we have made bindings to it inside pyiron for easy use. \n",
    "\n",
    "Here, we show a simple example similar to that used in one of our publications [3], which investigates segregation of Mg to a $\\Sigma 5$ tilt grain boundary in Al.\n",
    "\n",
    "[1] B. Sadigh, P. Erhart, A. Stukowski, A. Caro, E. Martinez, and L. Zepeda-Ruiz, Phys. Rev. B 85, 184203 (2012).\n",
    "\n",
    "[2] https://vcsgc-lammps.materialsmodeling.org.\n",
    "\n",
    "[3] Huan Zhao, Liam Huber, et al., Phys. Rev. Lett. 124, 106102 (2020)."
   ]
  },
  {
   "cell_type": "markdown",
   "metadata": {
    "heading_collapsed": true
   },
   "source": [
    "# Setup\n",
    "\n",
    "Imports and so forth."
   ]
  },
  {
   "cell_type": "code",
   "execution_count": 1,
   "metadata": {
    "ExecuteTime": {
     "end_time": "2020-09-03T14:10:41.534113Z",
     "start_time": "2020-09-03T14:10:39.583741Z"
    },
    "hidden": true
   },
   "outputs": [],
   "source": [
    "from pyiron_atomistics import Project\n",
    "from pyiron_atomistics.vasp.structure import read_atoms\n",
    "from os.path import join as pjoin\n",
    "import matplotlib.pyplot as plt\n",
    "import seaborn as sns\n",
    "import numpy as np\n",
    "from sklearn.cluster import DBSCAN"
   ]
  },
  {
   "cell_type": "code",
   "execution_count": 2,
   "metadata": {
    "ExecuteTime": {
     "end_time": "2020-09-03T14:10:42.463587Z",
     "start_time": "2020-09-03T14:10:41.535467Z"
    },
    "hidden": true
   },
   "outputs": [],
   "source": [
    "pr = Project('mdmc_demo')\n",
    "pr.remove_jobs_silently(recursive=True)"
   ]
  },
  {
   "cell_type": "markdown",
   "metadata": {},
   "source": [
    "# Run simulations\n",
    "\n",
    "Here we actually run the calculations. First, by relaxing the relevant GB at 0K, then by running VC-SGC MD/MC calculations at high and low temperatures.\n",
    "\n",
    "The parallelization scheme for VC-SGC means there are lower limits on the structure size we can calculate for. Thus, even using a relatively short run of 20 ps of MD with 500 Monte Carlo phases this calculation takes about ten minutes. Once it's executing, go grab a coffee."
   ]
  },
  {
   "cell_type": "code",
   "execution_count": 3,
   "metadata": {
    "ExecuteTime": {
     "end_time": "2020-09-03T14:10:42.466600Z",
     "start_time": "2020-09-03T14:10:42.464855Z"
    }
   },
   "outputs": [],
   "source": [
    "host = 'Al'\n",
    "solute = 'Mg'\n",
    "potential = '2009--Mendelev-M-I--Al-Mg--LAMMPS--ipr1'"
   ]
  },
  {
   "cell_type": "code",
   "execution_count": 4,
   "metadata": {
    "ExecuteTime": {
     "end_time": "2020-09-03T14:10:53.001216Z",
     "start_time": "2020-09-03T14:10:42.467700Z"
    }
   },
   "outputs": [
    {
     "name": "stderr",
     "output_type": "stream",
     "text": [
      "/home/navneeth/anaconda3/envs/binder/lib/python3.9/site-packages/pyiron_atomistics/lammps/interactive.py:264: UserWarning: f_tol is deprecated as of vers. 0.3.0. It is not guaranteed to be in service in vers. 0.4.0. Use ionic_force_tolerance instead.\n",
      "  warnings.warn(\n"
     ]
    },
    {
     "name": "stdout",
     "output_type": "stream",
     "text": [
      "The job relax_gb was saved and received the ID: 1\n"
     ]
    }
   ],
   "source": [
    "lattice_guess = pr.create_ase_bulk(host, cubic=True).cell[0, 0]\n",
    "ideal_gb_struct = read_atoms('Sigma37', species_list=[host, host])\n",
    "ideal_gb_struct.cell *= lattice_guess\n",
    "ideal_gb_struct.positions *= lattice_guess\n",
    "\n",
    "relax_gb_job = pr.create_job(pr.job_type.Lammps, 'relax_gb')\n",
    "relax_gb_job.potential = potential\n",
    "relax_gb_job.structure = ideal_gb_struct\n",
    "relax_gb_job.calc_minimize(f_tol=0.001, pressure=0)\n",
    "relax_gb_job.run()\n",
    "gb_struct = relax_gb_job.get_structure().copy()"
   ]
  },
  {
   "cell_type": "code",
   "execution_count": 5,
   "metadata": {
    "ExecuteTime": {
     "end_time": "2020-09-03T14:10:53.172951Z",
     "start_time": "2020-09-03T14:10:53.042696Z"
    }
   },
   "outputs": [
    {
     "data": {
      "application/vnd.jupyter.widget-view+json": {
       "model_id": "159a9ba2ca034afca6d01dec7b74e7ca",
       "version_major": 2,
       "version_minor": 0
      },
      "text/plain": []
     },
     "metadata": {},
     "output_type": "display_data"
    }
   ],
   "source": [
    "gb_struct.plot3d();"
   ]
  },
  {
   "cell_type": "code",
   "execution_count": 6,
   "metadata": {
    "ExecuteTime": {
     "end_time": "2020-09-03T14:10:53.340895Z",
     "start_time": "2020-09-03T14:10:53.176735Z"
    }
   },
   "outputs": [],
   "source": [
    "mdmc_job = pr.create_job(pr.job_type.Lammps, 'mdmc')\n",
    "mdmc_job.potential = potential\n",
    "mdmc_job.structure = gb_struct.repeat([1, 4, 8])\n",
    "mdmc_job.calc_vcsgc(\n",
    "    mu={'Al':0, 'Mg':-2},\n",
    "    target_concentration={'Al':0.9, 'Mg':0.1},\n",
    "    temperature=300,\n",
    "    pressure=0.0,\n",
    "    n_ionic_steps=10000,\n",
    "    mc_step_interval=20,\n",
    "    time_step=2.0,\n",
    "    langevin=True\n",
    ")"
   ]
  },
  {
   "cell_type": "code",
   "execution_count": 7,
   "metadata": {
    "ExecuteTime": {
     "end_time": "2020-09-03T14:17:57.330519Z",
     "start_time": "2020-09-03T14:10:53.383799Z"
    }
   },
   "outputs": [
    {
     "name": "stdout",
     "output_type": "stream",
     "text": [
      "The job mdmc was saved and received the ID: 2\n"
     ]
    }
   ],
   "source": [
    "mdmc_job.run()"
   ]
  },
  {
   "cell_type": "markdown",
   "metadata": {},
   "source": [
    "# Plotting functions\n",
    "\n",
    "Just leave this collapsed unless you're really keen."
   ]
  },
  {
   "cell_type": "code",
   "execution_count": 8,
   "metadata": {
    "ExecuteTime": {
     "end_time": "2020-09-03T14:17:57.344196Z",
     "start_time": "2020-09-03T14:17:57.332664Z"
    }
   },
   "outputs": [],
   "source": [
    "def plot_average_occupation(struct, eps=0.5, min_samples=5, \n",
    "                            columnar_axis=2, max_in_col=9, \n",
    "                            size=200, figsize=(4, 4), fontsize=35,\n",
    "                            save_name=None, fmt='eps', index1_name='Mg', show_orphans=False):\n",
    "    \"\"\"\n",
    "    For a system with a nice columnar projection, given a VC-SGC job and its minimized final structure, \n",
    "    plots the mean occupation of each column (indicated by colour). Atoms which could not be grouped are \n",
    "    plotted as black.\n",
    "    \n",
    "    `eps` should be tuned to have the minimum number of uncatagorized atoms without assigning more than\n",
    "    the expected number of atoms to a given column.\n",
    "    \"\"\"\n",
    "    from matplotlib.colors import ListedColormap\n",
    "    # Project onto the plane\n",
    "    axes = [0, 1, 2]\n",
    "    axes.pop(columnar_axis)\n",
    "    projected_pos = struct.positions[:, axes]\n",
    "    \n",
    "    # Cluster by column\n",
    "    cluster_algo = DBSCAN(eps=eps, min_samples=min_samples)\n",
    "    cluster_algo.fit(projected_pos)\n",
    "    column_groups = cluster_algo.labels_\n",
    "    unique_groups = np.unique(column_groups)\n",
    "    unique_groups = unique_groups[unique_groups != -1]  # Ignore the 'noisy' group\n",
    "    \n",
    "    # Double check that two columns aren't getting lumped together\n",
    "    group_sizes = [len(column_groups[np.argwhere(column_groups == g).reshape(-1)]) for g in unique_groups]\n",
    "    for group_size in group_sizes:\n",
    "        if group_size > max_in_col:\n",
    "            print(\"WARNING: Group found with {} members.\".format(group_size))\n",
    "\n",
    "    # Get the average positions\n",
    "    ungrouped_pos = projected_pos[np.argwhere(column_groups == -1).reshape(-1)]\n",
    "    column_pos = np.array([np.mean(projected_pos[np.argwhere(column_groups == group).reshape(-1)], axis=0)\n",
    "                           for group in unique_groups])\n",
    "    \n",
    "    # Get the average occupation\n",
    "    indices = struct.indices\n",
    "    column_concentration = np.array([np.mean(indices[np.argwhere(column_groups == group).reshape(-1)])\n",
    "                                     for group in unique_groups])\n",
    "    \n",
    "    # Plot\n",
    "    units = 255\n",
    "    Al_color = np.array([153/units, 153/units, 153/units])\n",
    "    Mg_color = np.array([(0/units, 128/units, 255/units)])\n",
    "    mix_frac = np.linspace(0, 1, 1000)\n",
    "    cmap = ListedColormap([tuple(((1 - x) * Al_color + x * Mg_color)[0]) for x in mix_frac]) \n",
    "    \n",
    "    fig, ax = plt.subplots(figsize=figsize)\n",
    "    if show_orphans:\n",
    "        ax.scatter(ungrouped_pos[:, 0], ungrouped_pos[:, 1], s=size, color='r', marker='s', alpha=0.1)\n",
    "    cols = ax.scatter(column_pos[:, 0], column_pos[:, 1], c=column_concentration, s=size, cmap=cmap)\n",
    "    cbar = fig.colorbar(cols, orientation='horizontal')\n",
    "    ax.set_aspect('equal')\n",
    "    ax.tick_params(axis='both', which='major', labelsize=fontsize)\n",
    "    ax.set_xlabel('Distance $[\\mathrm{\\AA}]$', size=fontsize)\n",
    "    ax.set_ylabel('Distance $[\\mathrm{\\AA}]$', size=fontsize)\n",
    "    cbar.ax.set_xlabel('Columnar {} concentration'.format(index1_name), size=fontsize)\n",
    "    cbar.ax.tick_params(axis='both', which='major', labelsize=fontsize)\n",
    "    fig.tight_layout()\n",
    "    if save_name is not None:\n",
    "        plt.savefig(save_name + '.' + fmt, format=fmt)"
   ]
  },
  {
   "cell_type": "markdown",
   "metadata": {},
   "source": [
    "# Visualization\n",
    "\n",
    "Finally, let's take a peek at the results.\n",
    "\n",
    "Early on, we see that although the Mg atoms are more prevalent near the boundary, they are still spread out somewhat uniformly through the system.\n",
    "\n",
    "By the end of the simulation, even with this truncated simulation time to account for the fact this is only a demo, the Mg atoms nearly perfectly occupy the planar GB sites, and you can begin to see the columnar checkerboard occupation appearing. Depending on your random seed, you may also see some structural changes at the GB."
   ]
  },
  {
   "cell_type": "code",
   "execution_count": 9,
   "metadata": {
    "ExecuteTime": {
     "end_time": "2020-09-03T14:35:38.416576Z",
     "start_time": "2020-09-03T14:35:30.494882Z"
    }
   },
   "outputs": [
    {
     "name": "stdout",
     "output_type": "stream",
     "text": [
      "WARNING: Group found with 560 members.\n",
      "WARNING: Group found with 1032 members.\n",
      "WARNING: Group found with 1032 members.\n",
      "WARNING: Group found with 48 members.\n",
      "WARNING: Group found with 56 members.\n",
      "WARNING: Group found with 56 members.\n",
      "WARNING: Group found with 16 members.\n",
      "WARNING: Group found with 56 members.\n",
      "WARNING: Group found with 16 members.\n",
      "WARNING: Group found with 16 members.\n",
      "WARNING: Group found with 1032 members.\n",
      "WARNING: Group found with 1032 members.\n",
      "WARNING: Group found with 1032 members.\n",
      "WARNING: Group found with 56 members.\n",
      "WARNING: Group found with 56 members.\n",
      "WARNING: Group found with 16 members.\n",
      "WARNING: Group found with 56 members.\n",
      "WARNING: Group found with 16 members.\n",
      "WARNING: Group found with 16 members.\n",
      "WARNING: Group found with 56 members.\n",
      "WARNING: Group found with 1032 members.\n",
      "WARNING: Group found with 56 members.\n",
      "WARNING: Group found with 56 members.\n",
      "WARNING: Group found with 56 members.\n",
      "WARNING: Group found with 56 members.\n",
      "WARNING: Group found with 56 members.\n",
      "WARNING: Group found with 1144 members.\n",
      "WARNING: Group found with 1144 members.\n",
      "WARNING: Group found with 1144 members.\n",
      "WARNING: Group found with 608 members.\n",
      "WARNING: Group found with 1144 members.\n",
      "WARNING: Group found with 1144 members.\n",
      "WARNING: Group found with 1144 members.\n",
      "WARNING: Group found with 24 members.\n",
      "WARNING: Group found with 24 members.\n",
      "WARNING: Group found with 24 members.\n",
      "WARNING: Group found with 24 members.\n",
      "WARNING: Group found with 24 members.\n",
      "WARNING: Group found with 24 members.\n",
      "WARNING: Group found with 1032 members.\n",
      "WARNING: Group found with 1032 members.\n",
      "WARNING: Group found with 56 members.\n",
      "WARNING: Group found with 56 members.\n",
      "WARNING: Group found with 16 members.\n",
      "WARNING: Group found with 56 members.\n",
      "WARNING: Group found with 16 members.\n",
      "WARNING: Group found with 16 members.\n",
      "WARNING: Group found with 1032 members.\n",
      "WARNING: Group found with 1032 members.\n",
      "WARNING: Group found with 1032 members.\n",
      "WARNING: Group found with 56 members.\n",
      "WARNING: Group found with 56 members.\n",
      "WARNING: Group found with 16 members.\n",
      "WARNING: Group found with 56 members.\n",
      "WARNING: Group found with 16 members.\n",
      "WARNING: Group found with 16 members.\n",
      "WARNING: Group found with 56 members.\n",
      "WARNING: Group found with 1032 members.\n",
      "WARNING: Group found with 56 members.\n",
      "WARNING: Group found with 56 members.\n",
      "WARNING: Group found with 56 members.\n",
      "WARNING: Group found with 56 members.\n",
      "WARNING: Group found with 56 members.\n",
      "WARNING: Group found with 1144 members.\n",
      "WARNING: Group found with 1144 members.\n",
      "WARNING: Group found with 1144 members.\n",
      "WARNING: Group found with 1144 members.\n",
      "WARNING: Group found with 1144 members.\n",
      "WARNING: Group found with 1144 members.\n",
      "WARNING: Group found with 24 members.\n",
      "WARNING: Group found with 24 members.\n",
      "WARNING: Group found with 24 members.\n",
      "WARNING: Group found with 24 members.\n",
      "WARNING: Group found with 24 members.\n",
      "WARNING: Group found with 24 members.\n",
      "WARNING: Group found with 1032 members.\n",
      "WARNING: Group found with 1032 members.\n",
      "WARNING: Group found with 56 members.\n",
      "WARNING: Group found with 56 members.\n",
      "WARNING: Group found with 16 members.\n",
      "WARNING: Group found with 56 members.\n",
      "WARNING: Group found with 16 members.\n",
      "WARNING: Group found with 16 members.\n",
      "WARNING: Group found with 1032 members.\n",
      "WARNING: Group found with 1032 members.\n",
      "WARNING: Group found with 1032 members.\n",
      "WARNING: Group found with 56 members.\n",
      "WARNING: Group found with 56 members.\n",
      "WARNING: Group found with 16 members.\n",
      "WARNING: Group found with 56 members.\n",
      "WARNING: Group found with 16 members.\n",
      "WARNING: Group found with 16 members.\n",
      "WARNING: Group found with 56 members.\n",
      "WARNING: Group found with 1032 members.\n",
      "WARNING: Group found with 56 members.\n",
      "WARNING: Group found with 56 members.\n",
      "WARNING: Group found with 56 members.\n",
      "WARNING: Group found with 56 members.\n",
      "WARNING: Group found with 56 members.\n",
      "WARNING: Group found with 1144 members.\n",
      "WARNING: Group found with 1144 members.\n",
      "WARNING: Group found with 1144 members.\n",
      "WARNING: Group found with 1144 members.\n",
      "WARNING: Group found with 1144 members.\n",
      "WARNING: Group found with 1144 members.\n",
      "WARNING: Group found with 24 members.\n",
      "WARNING: Group found with 24 members.\n",
      "WARNING: Group found with 24 members.\n",
      "WARNING: Group found with 24 members.\n",
      "WARNING: Group found with 24 members.\n",
      "WARNING: Group found with 24 members.\n",
      "WARNING: Group found with 1032 members.\n",
      "WARNING: Group found with 1032 members.\n",
      "WARNING: Group found with 56 members.\n",
      "WARNING: Group found with 16 members.\n",
      "WARNING: Group found with 56 members.\n",
      "WARNING: Group found with 16 members.\n",
      "WARNING: Group found with 16 members.\n",
      "WARNING: Group found with 1032 members.\n",
      "WARNING: Group found with 1032 members.\n",
      "WARNING: Group found with 1032 members.\n",
      "WARNING: Group found with 56 members.\n",
      "WARNING: Group found with 56 members.\n",
      "WARNING: Group found with 16 members.\n",
      "WARNING: Group found with 56 members.\n",
      "WARNING: Group found with 16 members.\n",
      "WARNING: Group found with 16 members.\n",
      "WARNING: Group found with 48 members.\n",
      "WARNING: Group found with 472 members.\n",
      "WARNING: Group found with 56 members.\n",
      "WARNING: Group found with 56 members.\n",
      "WARNING: Group found with 56 members.\n",
      "WARNING: Group found with 56 members.\n",
      "WARNING: Group found with 56 members.\n",
      "WARNING: Group found with 536 members.\n",
      "WARNING: Group found with 1144 members.\n",
      "WARNING: Group found with 1144 members.\n",
      "WARNING: Group found with 1144 members.\n",
      "WARNING: Group found with 1144 members.\n",
      "WARNING: Group found with 1144 members.\n",
      "WARNING: Group found with 24 members.\n",
      "WARNING: Group found with 24 members.\n",
      "WARNING: Group found with 24 members.\n",
      "WARNING: Group found with 24 members.\n",
      "WARNING: Group found with 24 members.\n",
      "WARNING: Group found with 24 members.\n"
     ]
    },
    {
     "data": {
      "image/png": "[encoded data removed]",
      "text/plain": [
       "<Figure size 288x288 with 2 Axes>"
      ]
     },
     "metadata": {
      "needs_background": "light"
     },
     "output_type": "display_data"
    }
   ],
   "source": [
    "plot_average_occupation(mdmc_job.get_structure(0))"
   ]
  },
  {
   "cell_type": "code",
   "execution_count": 10,
   "metadata": {
    "ExecuteTime": {
     "end_time": "2020-09-03T14:35:46.250158Z",
     "start_time": "2020-09-03T14:35:38.417796Z"
    }
   },
   "outputs": [
    {
     "name": "stdout",
     "output_type": "stream",
     "text": [
      "WARNING: Group found with 560 members.\n",
      "WARNING: Group found with 1032 members.\n",
      "WARNING: Group found with 1032 members.\n",
      "WARNING: Group found with 48 members.\n",
      "WARNING: Group found with 56 members.\n",
      "WARNING: Group found with 56 members.\n",
      "WARNING: Group found with 16 members.\n",
      "WARNING: Group found with 56 members.\n",
      "WARNING: Group found with 16 members.\n",
      "WARNING: Group found with 16 members.\n",
      "WARNING: Group found with 1032 members.\n",
      "WARNING: Group found with 1032 members.\n",
      "WARNING: Group found with 1032 members.\n",
      "WARNING: Group found with 56 members.\n",
      "WARNING: Group found with 56 members.\n",
      "WARNING: Group found with 16 members.\n",
      "WARNING: Group found with 56 members.\n",
      "WARNING: Group found with 16 members.\n",
      "WARNING: Group found with 16 members.\n",
      "WARNING: Group found with 56 members.\n",
      "WARNING: Group found with 1032 members.\n",
      "WARNING: Group found with 56 members.\n",
      "WARNING: Group found with 56 members.\n",
      "WARNING: Group found with 56 members.\n",
      "WARNING: Group found with 56 members.\n",
      "WARNING: Group found with 56 members.\n",
      "WARNING: Group found with 1144 members.\n",
      "WARNING: Group found with 1144 members.\n",
      "WARNING: Group found with 1144 members.\n",
      "WARNING: Group found with 608 members.\n",
      "WARNING: Group found with 1144 members.\n",
      "WARNING: Group found with 1144 members.\n",
      "WARNING: Group found with 1144 members.\n",
      "WARNING: Group found with 24 members.\n",
      "WARNING: Group found with 24 members.\n",
      "WARNING: Group found with 24 members.\n",
      "WARNING: Group found with 24 members.\n",
      "WARNING: Group found with 24 members.\n",
      "WARNING: Group found with 24 members.\n",
      "WARNING: Group found with 1032 members.\n",
      "WARNING: Group found with 1032 members.\n",
      "WARNING: Group found with 56 members.\n",
      "WARNING: Group found with 56 members.\n",
      "WARNING: Group found with 16 members.\n",
      "WARNING: Group found with 56 members.\n",
      "WARNING: Group found with 16 members.\n",
      "WARNING: Group found with 16 members.\n",
      "WARNING: Group found with 1032 members.\n",
      "WARNING: Group found with 1032 members.\n",
      "WARNING: Group found with 1032 members.\n",
      "WARNING: Group found with 56 members.\n",
      "WARNING: Group found with 56 members.\n",
      "WARNING: Group found with 16 members.\n",
      "WARNING: Group found with 56 members.\n",
      "WARNING: Group found with 16 members.\n",
      "WARNING: Group found with 16 members.\n",
      "WARNING: Group found with 56 members.\n",
      "WARNING: Group found with 1032 members.\n",
      "WARNING: Group found with 56 members.\n",
      "WARNING: Group found with 56 members.\n",
      "WARNING: Group found with 56 members.\n",
      "WARNING: Group found with 56 members.\n",
      "WARNING: Group found with 56 members.\n",
      "WARNING: Group found with 1144 members.\n",
      "WARNING: Group found with 1144 members.\n",
      "WARNING: Group found with 1144 members.\n",
      "WARNING: Group found with 1144 members.\n",
      "WARNING: Group found with 1144 members.\n",
      "WARNING: Group found with 1144 members.\n",
      "WARNING: Group found with 24 members.\n",
      "WARNING: Group found with 24 members.\n",
      "WARNING: Group found with 24 members.\n",
      "WARNING: Group found with 24 members.\n",
      "WARNING: Group found with 24 members.\n",
      "WARNING: Group found with 24 members.\n",
      "WARNING: Group found with 1032 members.\n",
      "WARNING: Group found with 1032 members.\n",
      "WARNING: Group found with 56 members.\n",
      "WARNING: Group found with 56 members.\n",
      "WARNING: Group found with 16 members.\n",
      "WARNING: Group found with 56 members.\n",
      "WARNING: Group found with 16 members.\n",
      "WARNING: Group found with 16 members.\n",
      "WARNING: Group found with 1032 members.\n",
      "WARNING: Group found with 1032 members.\n",
      "WARNING: Group found with 1032 members.\n",
      "WARNING: Group found with 56 members.\n",
      "WARNING: Group found with 56 members.\n",
      "WARNING: Group found with 16 members.\n",
      "WARNING: Group found with 56 members.\n",
      "WARNING: Group found with 16 members.\n",
      "WARNING: Group found with 16 members.\n",
      "WARNING: Group found with 56 members.\n",
      "WARNING: Group found with 1032 members.\n",
      "WARNING: Group found with 56 members.\n",
      "WARNING: Group found with 56 members.\n",
      "WARNING: Group found with 56 members.\n",
      "WARNING: Group found with 56 members.\n",
      "WARNING: Group found with 56 members.\n",
      "WARNING: Group found with 1144 members.\n",
      "WARNING: Group found with 1144 members.\n",
      "WARNING: Group found with 1144 members.\n",
      "WARNING: Group found with 1144 members.\n",
      "WARNING: Group found with 1144 members.\n",
      "WARNING: Group found with 1144 members.\n",
      "WARNING: Group found with 24 members.\n",
      "WARNING: Group found with 24 members.\n",
      "WARNING: Group found with 24 members.\n",
      "WARNING: Group found with 24 members.\n",
      "WARNING: Group found with 24 members.\n",
      "WARNING: Group found with 24 members.\n",
      "WARNING: Group found with 1032 members.\n",
      "WARNING: Group found with 1032 members.\n",
      "WARNING: Group found with 56 members.\n",
      "WARNING: Group found with 16 members.\n",
      "WARNING: Group found with 56 members.\n",
      "WARNING: Group found with 16 members.\n",
      "WARNING: Group found with 16 members.\n",
      "WARNING: Group found with 1032 members.\n",
      "WARNING: Group found with 1032 members.\n",
      "WARNING: Group found with 1032 members.\n",
      "WARNING: Group found with 56 members.\n",
      "WARNING: Group found with 56 members.\n",
      "WARNING: Group found with 16 members.\n",
      "WARNING: Group found with 56 members.\n",
      "WARNING: Group found with 16 members.\n",
      "WARNING: Group found with 16 members.\n",
      "WARNING: Group found with 48 members.\n",
      "WARNING: Group found with 472 members.\n",
      "WARNING: Group found with 56 members.\n",
      "WARNING: Group found with 56 members.\n",
      "WARNING: Group found with 56 members.\n",
      "WARNING: Group found with 56 members.\n",
      "WARNING: Group found with 56 members.\n",
      "WARNING: Group found with 536 members.\n",
      "WARNING: Group found with 1144 members.\n",
      "WARNING: Group found with 1144 members.\n",
      "WARNING: Group found with 1144 members.\n",
      "WARNING: Group found with 1144 members.\n",
      "WARNING: Group found with 1144 members.\n",
      "WARNING: Group found with 24 members.\n",
      "WARNING: Group found with 24 members.\n",
      "WARNING: Group found with 24 members.\n",
      "WARNING: Group found with 24 members.\n",
      "WARNING: Group found with 24 members.\n",
      "WARNING: Group found with 24 members.\n"
     ]
    },
    {
     "data": {
      "image/png": "[encoded data removed]",
      "text/plain": [
       "<Figure size 288x288 with 2 Axes>"
      ]
     },
     "metadata": {
      "needs_background": "light"
     },
     "output_type": "display_data"
    }
   ],
   "source": [
    "plot_average_occupation(mdmc_job.get_structure(0))"
   ]
  },
  {
   "cell_type": "markdown",
   "metadata": {},
   "source": [
    "# Cleanup\n",
    "\n",
    "This will be commented out to begin with, in case you want to probe the output a little more deeply. But feel free to uncomment and execute whenever you're done with the demo."
   ]
  },
  {
   "cell_type": "code",
   "execution_count": null,
   "metadata": {
    "ExecuteTime": {
     "end_time": "2020-09-03T14:17:57.714521Z",
     "start_time": "2020-09-03T14:10:39.630Z"
    }
   },
   "outputs": [],
   "source": [
    "# pr.remove_jobs_silently(recursive=True)\n",
    "# pr.remove(enable=True)"
   ]
  },
  {
   "cell_type": "code",
   "execution_count": null,
   "metadata": {},
   "outputs": [],
   "source": []
  }
 ],
 "metadata": {
  "kernelspec": {
   "display_name": "Python 3 (ipykernel)",
   "language": "python",
   "name": "python3"
  },
  "language_info": {
   "codemirror_mode": {
    "name": "ipython",
    "version": 3
   },
   "file_extension": ".py",
   "mimetype": "text/x-python",
   "name": "python",
   "nbconvert_exporter": "python",
   "pygments_lexer": "ipython3",
   "version": "3.9.9"
  },
  "toc": {
   "base_numbering": 1,
   "nav_menu": {},
   "number_sections": true,
   "sideBar": true,
   "skip_h1_title": false,
   "title_cell": "Table of Contents",
   "title_sidebar": "Contents",
   "toc_cell": false,
   "toc_position": {},
   "toc_section_display": true,
   "toc_window_display": true
  }
 },
 "nbformat": 4,
 "nbformat_minor": 4
}
